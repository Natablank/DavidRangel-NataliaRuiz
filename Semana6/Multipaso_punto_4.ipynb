{
  "nbformat": 4,
  "nbformat_minor": 0,
  "metadata": {
    "colab": {
      "name": "Multipaso punto 4.ipynb",
      "provenance": []
    },
    "kernelspec": {
      "name": "python3",
      "display_name": "Python 3"
    },
    "language_info": {
      "name": "python"
    }
  },
  "cells": [
    {
      "cell_type": "code",
      "source": [
        "!pip install numpy\n",
        "!pip install matplotlib"
      ],
      "metadata": {
        "colab": {
          "base_uri": "https://localhost:8080/"
        },
        "id": "Knp6GA32Ds6z",
        "outputId": "c59a2e0a-c360-45a8-c5b2-ef5a6a4170b2"
      },
      "execution_count": 1,
      "outputs": [
        {
          "output_type": "stream",
          "name": "stdout",
          "text": [
            "Requirement already satisfied: numpy in /usr/local/lib/python3.7/dist-packages (1.21.5)\n",
            "Requirement already satisfied: matplotlib in /usr/local/lib/python3.7/dist-packages (3.2.2)\n",
            "Requirement already satisfied: cycler>=0.10 in /usr/local/lib/python3.7/dist-packages (from matplotlib) (0.11.0)\n",
            "Requirement already satisfied: python-dateutil>=2.1 in /usr/local/lib/python3.7/dist-packages (from matplotlib) (2.8.2)\n",
            "Requirement already satisfied: numpy>=1.11 in /usr/local/lib/python3.7/dist-packages (from matplotlib) (1.21.5)\n",
            "Requirement already satisfied: pyparsing!=2.0.4,!=2.1.2,!=2.1.6,>=2.0.1 in /usr/local/lib/python3.7/dist-packages (from matplotlib) (3.0.7)\n",
            "Requirement already satisfied: kiwisolver>=1.0.1 in /usr/local/lib/python3.7/dist-packages (from matplotlib) (1.3.2)\n",
            "Requirement already satisfied: six>=1.5 in /usr/local/lib/python3.7/dist-packages (from python-dateutil>=2.1->matplotlib) (1.15.0)\n"
          ]
        }
      ]
    },
    {
      "cell_type": "code",
      "source": [
        "import numpy as np\n",
        "import matplotlib.pyplot as plt"
      ],
      "metadata": {
        "id": "fUlbxYTlD22l"
      },
      "execution_count": 2,
      "outputs": []
    },
    {
      "cell_type": "code",
      "source": [
        "def aceleracion(x):\n",
        "  return -x"
      ],
      "metadata": {
        "id": "1VANu660CGud"
      },
      "execution_count": 3,
      "outputs": []
    },
    {
      "cell_type": "code",
      "source": [
        "#Condiciones iniciales \n",
        "r0 = np.array([1.,0.])\n",
        "TMin = 0.\n",
        "TMax = 10. \n",
        "n = 300\n",
        "t = np.linspace(TMin, TMax, n)\n",
        "h = (TMax-TMin)/(n-1)\n",
        "x0 = 1\n",
        "dx0 = 0"
      ],
      "metadata": {
        "id": "KmPfISzhCSJa"
      },
      "execution_count": 4,
      "outputs": []
    },
    {
      "cell_type": "code",
      "source": [
        "#Datos de la literatura:\n",
        "c1 = (1)/(2*(2-(2)**(1/3)))\n",
        "c2 = (1-(2)**(1/3))/(2*(2-(2)**(1/3)))\n",
        "c = np.array([c1,c2,c2,c1])\n",
        "d1 = (1)/(2-(2)**(1/3))\n",
        "d2 = (-2**(1/3))/(2-(2)**(1/3))\n",
        "d4 = 0\n",
        "d = np.array([d1,d2,d1,d4])"
      ],
      "metadata": {
        "id": "NcNn2X1YNxwv"
      },
      "execution_count": 17,
      "outputs": []
    },
    {
      "cell_type": "code",
      "source": [
        "def Yoshida():\n",
        "\n",
        "    t = np.linspace(TMin, TMax, n)\n",
        "    dt = t[1]-t[0]\n",
        "    x = np.zeros(len(t))\n",
        "    v = np.zeros(len(t))\n",
        "    \n",
        "    v[0] = r0[1]\n",
        "    x[0] = r0[0]\n",
        "    \n",
        "    for i in range(1,len(x)):\n",
        "        xi1 = x[i-1] + c[0]*v[i-1]*dt\n",
        "        vi1 = v[i-1] + d[0]*aceleracion(xi1)*dt\n",
        "        \n",
        "        xi2 = xi1 + c[1]*vi1*dt\n",
        "        vi2 = vi1 + d[1]*aceleracion(xi2)*dt\n",
        "        \n",
        "        xi3 = xi2 + c[2]*vi2*dt\n",
        "        vi3 = vi2 + d[2]*aceleracion(xi3)*dt\n",
        "        \n",
        "        xi4 = xi3 + c[3]*vi3*dt\n",
        "        vi4 = vi3 + d[3]*aceleracion(xi4)*dt\n",
        "        \n",
        "        x[i] = xi4\n",
        "        v[i] = vi4\n",
        "        \n",
        "    return x,v\n",
        "\n",
        "yoshiX,yoshiV = Yoshida()\n",
        "yoshiY = 0.5*yoshiX**2+0.5*yoshiV**2"
      ],
      "metadata": {
        "id": "X5Cq9IEF2Ev0"
      },
      "execution_count": 12,
      "outputs": []
    },
    {
      "cell_type": "markdown",
      "source": [
        "Método de la clase: "
      ],
      "metadata": {
        "id": "-U5opSktM691"
      }
    },
    {
      "cell_type": "code",
      "source": [
        "def GetLeapFrog(r0,t):\n",
        "    \n",
        "    N = len(t)\n",
        "    h = t[1] - t[0]\n",
        "    \n",
        "    t1 = np.arange(TMin - 0.5*h, TMax - 0.5*h + h, h)\n",
        "    \n",
        "    x = np.zeros(N)\n",
        "    v = np.zeros(N) # El inicializador\n",
        "\n",
        "    x[0] = r0[0]\n",
        "    v[0] = r0[1] - 0.5*h*aceleracion(x[0])\n",
        "    \n",
        "    for i in range(1,N):\n",
        "        \n",
        "        v[i] = v[i-1] + h*aceleracion(x[i-1])\n",
        "        x[i] = x[i-1] + h*v[i]\n",
        "    \n",
        "    # Igualando los array\n",
        "    X = np.array([])\n",
        "    for i in range(len(x)-1):\n",
        "        X = np.append(X,(x[i]+x[i+1])*0.5)\n",
        "\n",
        "    V = v[1:]\n",
        "    \n",
        "    #print(len(X),len(V))\n",
        "    \n",
        "    return X,V"
      ],
      "metadata": {
        "id": "XTt2_JzHEYIT"
      },
      "execution_count": 13,
      "outputs": []
    },
    {
      "cell_type": "code",
      "source": [
        "x, v = GetLeapFrog(r0,t)\n",
        "ener = (0.5*(x)**2)+(0.5*(v)**2)"
      ],
      "metadata": {
        "id": "vlNbdqkWNWCS"
      },
      "execution_count": 14,
      "outputs": []
    },
    {
      "cell_type": "code",
      "source": [
        "fig0 = plt.figure(figsize=(7,4))\n",
        "ax = fig0.add_subplot(1, 2, 1)\n",
        "ax.plot(t[1:],ener, label='2 Orden-Leapfrog', color = '#A2282F')\n",
        "ax.plot(t,yoshiY,label='4 Orden-Yoshida', color = '#39AC75')\n",
        "ax.legend(loc=0)\n",
        "ax.legend(loc=0)\n",
        "plt.xlabel('t(s)')\n",
        "plt.ylabel('E(J)')\n",
        "plt.show()"
      ],
      "metadata": {
        "colab": {
          "base_uri": "https://localhost:8080/",
          "height": 279
        },
        "id": "ok50sYBtySh8",
        "outputId": "ae279aeb-e027-44e5-e60a-43c08d602842"
      },
      "execution_count": 18,
      "outputs": [
        {
          "output_type": "display_data",
          "data": {
            "image/png": "[encoded data removed]",
            "text/plain": [
              "<Figure size 504x288 with 1 Axes>"
            ]
          },
          "metadata": {
            "needs_background": "light"
          }
        }
      ]
    }
  ]
}