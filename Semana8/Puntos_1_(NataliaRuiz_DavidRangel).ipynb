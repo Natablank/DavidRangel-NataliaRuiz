{
  "nbformat": 4,
  "nbformat_minor": 0,
  "metadata": {
    "colab": {
      "name": "Puntos 1  (NataliaRuiz_DavidRangel).ipynb",
      "provenance": []
    },
    "kernelspec": {
      "name": "python3",
      "display_name": "Python 3"
    },
    "language_info": {
      "name": "python"
    }
  },
  "cells": [
    {
      "cell_type": "code",
      "execution_count": 1,
      "metadata": {
        "id": "S6XsNwp972S9"
      },
      "outputs": [],
      "source": [
        "import numpy as np\n",
        "import matplotlib.pyplot as plt"
      ]
    },
    {
      "cell_type": "markdown",
      "source": [
        "##Punto 1\n"
      ],
      "metadata": {
        "id": "DP-14F-sSqn-"
      }
    },
    {
      "cell_type": "code",
      "source": [
        "Min, Max, N = 0.,40.,11\n",
        "x = np.linspace(Min,Max,N)\n",
        "y = x.copy()\n",
        "h = x[1]-x[0]\n",
        "    \n",
        "def InitT():\n",
        "    \n",
        "    T = np.zeros((N,N))\n",
        "    \n",
        "    T[0,:] = 100\n",
        "    T[-1,:] = 0.\n",
        "    \n",
        "    T[:,0] = 0.\n",
        "    T[:,-1] = 0.\n",
        "    \n",
        "    return T\n",
        "    \n",
        "\n",
        "def relajacion(T,w, its = int(1e5), tolerancia = 1e-2):\n",
        "    \n",
        "    it_max = 0\n",
        "    \n",
        "    for it in range(its):\n",
        "        \n",
        "        d_max = 0.\n",
        "        \n",
        "        for i in range(1, len(x)-1):\n",
        "            for j in range(1, len(y)-1):\n",
        "                tmp = 0.25*(T[i+1,j]+T[i-1,j]+T[i,j+1]+T[i,j-1])\n",
        "                r = w*(tmp - T[i,j])\n",
        "                \n",
        "                T[i,j] += r\n",
        "                \n",
        "                if np.abs(r) > d_max:\n",
        "                    d_max = r\n",
        "        \n",
        "        if np.abs(d_max) < tolerancia:\n",
        "            it_max = it\n",
        "            break\n",
        "            \n",
        "    return T,it_max\n",
        "\n",
        "\n",
        "w = np.arange(0.1,2.0,0.1)\n",
        "its = []\n",
        "\n",
        "\n",
        "for val in w:\n",
        "  T = InitT()\n",
        "  Tf1,ite =  relajacion(T, w=val)\n",
        "\n",
        "  its.append(ite)\n",
        "\n",
        "plt.plot(w,its)\n",
        "plt.xlabel('w')\n",
        "plt.ylabel('Iteraciones')\n",
        "plt.show()\n",
        "\n",
        "print(\"El valor de w para el cual se realizan menos iteraciones es cercano a 1.5\")\n",
        "print(\"Para parámetros mayores a 2 el método diverge\")"
      ],
      "metadata": {
        "colab": {
          "base_uri": "https://localhost:8080/",
          "height": 314
        },
        "id": "4mQE1O4O8CYN",
        "outputId": "8fdc61b5-a8b1-40e0-a9a2-33f8c9561be4"
      },
      "execution_count": 8,
      "outputs": [
        {
          "output_type": "display_data",
          "data": {
            "text/plain": [
              "<Figure size 432x288 with 1 Axes>"
            ],
            "image/png": "[encoded data removed]"
          },
          "metadata": {
            "needs_background": "light"
          }
        },
        {
          "output_type": "stream",
          "name": "stdout",
          "text": [
            "El valor de w para el cual se realizan menos iteraciones es cercano a 1.5\n",
            "Para parámetros mayores a 2 el método diverge\n"
          ]
        }
      ]
    },
    {
      "cell_type": "code",
      "source": [
        ""
      ],
      "metadata": {
        "id": "vxVDj4AUnein"
      },
      "execution_count": null,
      "outputs": []
    }
  ]
}